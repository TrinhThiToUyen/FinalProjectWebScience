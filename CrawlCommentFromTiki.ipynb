{
 "cells": [
  {
   "cell_type": "code",
   "execution_count": 1,
   "metadata": {},
   "outputs": [],
   "source": [
    "# Import libraries\n",
    "import pandas as pd\n",
    "import requests\n",
    "from bs4 import BeautifulSoup\n",
    "import json, codecs, os, csv\n",
    "from time import time\n",
    "import re\n",
    "from lxml.etree import tostring\n",
    "from selenium import webdriver\n",
    "from time import sleep\n",
    "import numpy as np\n",
    "import matplotlib.pyplot as plt\n",
    "%matplotlib inline\n",
    "\n",
    "from underthesea import sent_tokenize\n",
    "from underthesea import word_tokenize\n",
    "from underthesea import ner\n",
    "from sklearn.model_selection import train_test_split"
   ]
  },
  {
   "cell_type": "markdown",
   "metadata": {},
   "source": [
    "# 1. Tiền xử lí dữ liệu"
   ]
  },
  {
   "cell_type": "markdown",
   "metadata": {},
   "source": [
    "## 1. 1 Chuẩn hóa dữ liệu "
   ]
  },
  {
   "cell_type": "code",
   "execution_count": 2,
   "metadata": {},
   "outputs": [],
   "source": [
    "# Hàm Chuẩn hóa chuỗi thành chữ thường \n",
    "def lower_sentence(sentence):\n",
    "    s = sentence.lower()\n",
    "    return s\n",
    "\n",
    "# Hàm Loại bỏ dấu câu và các ký tự đặc biệt\n",
    "def punctuation_and_special_characters(sentence):\n",
    "    s = re.sub('\\W+',' ', sentence)\n",
    "    return s\n",
    "\n",
    "# Trường hợp người dùng láy âm tiết\n",
    "def sound_syllable(sentence):\n",
    "    s = re.sub(r'(\\D)\\1+', r'\\1', sentence)\n",
    "    return s"
   ]
  },
  {
   "cell_type": "code",
   "execution_count": 3,
   "metadata": {},
   "outputs": [],
   "source": [
    "correct_mapping = {\n",
    "    \"ship\": \"vận chuyển\",\n",
    "    \"shop\": \"cửa hàng\",\n",
    "    \"m\": \"mình\",\n",
    "    \"mik\": \"mình\",\n",
    "    \"ko\": \"không\",\n",
    "    \"k\": \" không \",\n",
    "    \"kh\": \"không\",\n",
    "    \"khong\": \"không\",\n",
    "    \"kg\": \"không\",\n",
    "    \"khg\": \"không\",\n",
    "    \"tl\": \"trả lời\",\n",
    "    \"r\": \"rồi\",\n",
    "    \"fb\": \"mạng xã hội facebook\",\n",
    "    \"face\": \"mạng xã hội\",\n",
    "    \"thanks\": \"cảm ơn\",\n",
    "    \"thank\": \"cảm ơn\",\n",
    "    \"tks\": \"cảm ơn\",\n",
    "    \"tk\": \"cảm ơn\",\n",
    "    \"ok\": \"tốt\",\n",
    "    \"dc\": \"được\",\n",
    "    \"vs\": \"với\",\n",
    "    \"đt\": \"điện thoại\",\n",
    "    \"thjk\": \"thích\",\n",
    "    \"thik\": \"thích\",\n",
    "    \"qá\": \"quá\",\n",
    "    \"trể\": \"trễ\",\n",
    "    \"bgjo\": \"bao giờ\",\n",
    "    \"mn\": \"mọi người\",\n",
    "    \"seal\": \"niêm phong\"\n",
    "}\n",
    "\n",
    "def word_map(sentence):\n",
    "    tokens = sentence.split()\n",
    "    i = 0\n",
    "    \n",
    "    for token in tokens:\n",
    "        if token.lower() in correct_mapping:\n",
    "            word = correct_mapping[token.lower()]\n",
    "            tokens[i] = word\n",
    "            \n",
    "        i += 1\n",
    "        \n",
    "    return \" \".join(tokens)"
   ]
  },
  {
   "cell_type": "code",
   "execution_count": 4,
   "metadata": {},
   "outputs": [],
   "source": [
    "def PreProcessing(dataFrame):\n",
    "    df_copy = df_0.copy()\n",
    "\n",
    "    df_copy['comment'] = df_copy['comment'].astype(str)\n",
    "    df_copy[\"comment_clear\"] = df_copy.apply(lambda x : lower_sentence(x['comment']),axis = 1 )\n",
    "    df_copy[\"comment_clear\"] = df_copy.apply(lambda x : punctuation_and_special_characters(x['comment_clear']),axis = 1 )\n",
    "    df_copy[\"comment_clear\"] = df_copy.apply(lambda x : sound_syllable(x['comment_clear']),axis =1)\n",
    "    df_copy[\"comment_clear\"] = df_copy.apply(lambda x : word_map(x['comment_clear']),axis =1)\n",
    "    \n",
    "    df_copy.dropna(inplace = True)\n",
    "    df_copy['rating'].dropna()\n",
    "    \n",
    "    df_copy.drop(df_copy[(df_copy['rating'] == 'g')|(df_copy['rating'] == ',')].index, inplace=True)\n",
    "    df_copy['rating'] = df_copy['rating'].astype(int)\n",
    "    \n",
    "    df_copy['total_comment'] = df_copy.groupby('comment')['rating'].transform('count')\n",
    "    df_copy['total_rating'] = df_copy.groupby('comment')['rating'].transform('sum')\n",
    "    df_copy['average_rating'] = df_copy['total_rating']/df_copy['total_comment']\n",
    "    \n",
    "    \n",
    "    df1 = df_copy.copy()\n",
    "    df1 = df1.drop(['STT','comment', 'rating', 'total_comment', 'total_rating'], axis = 1)\n",
    "    \n",
    "    row_indexes = df1[df1['average_rating'] >= 4.0].index\n",
    "    df1.loc[row_indexes,'label'] = 1\n",
    "    \n",
    "    row_indexes = df1[df1['average_rating'] < 4.0].index\n",
    "    df1.loc[row_indexes,'label'] = 0\n",
    "    \n",
    "    df1['label'] = df1['label'].astype(int)\n",
    "\n",
    "    return df_copy, df1"
   ]
  },
  {
   "cell_type": "code",
   "execution_count": 5,
   "metadata": {},
   "outputs": [
    {
     "name": "stderr",
     "output_type": "stream",
     "text": [
      "C:\\Anaconda\\lib\\site-packages\\IPython\\core\\interactiveshell.py:3058: DtypeWarning: Columns (2) have mixed types. Specify dtype option on import or set low_memory=False.\n",
      "  interactivity=interactivity, compiler=compiler, result=result)\n"
     ]
    }
   ],
   "source": [
    "df_0 = pd.read_csv('Data.csv')"
   ]
  },
  {
   "cell_type": "code",
   "execution_count": 6,
   "metadata": {},
   "outputs": [],
   "source": [
    "df1, df = PreProcessing(df_0)"
   ]
  },
  {
   "cell_type": "code",
   "execution_count": 7,
   "metadata": {},
   "outputs": [
    {
     "data": {
      "text/html": [
       "<div>\n",
       "<style scoped>\n",
       "    .dataframe tbody tr th:only-of-type {\n",
       "        vertical-align: middle;\n",
       "    }\n",
       "\n",
       "    .dataframe tbody tr th {\n",
       "        vertical-align: top;\n",
       "    }\n",
       "\n",
       "    .dataframe thead th {\n",
       "        text-align: right;\n",
       "    }\n",
       "</style>\n",
       "<table border=\"1\" class=\"dataframe\">\n",
       "  <thead>\n",
       "    <tr style=\"text-align: right;\">\n",
       "      <th></th>\n",
       "      <th>STT</th>\n",
       "      <th>comment</th>\n",
       "      <th>rating</th>\n",
       "      <th>comment_clear</th>\n",
       "      <th>total_comment</th>\n",
       "      <th>total_rating</th>\n",
       "      <th>average_rating</th>\n",
       "    </tr>\n",
       "  </thead>\n",
       "  <tbody>\n",
       "  </tbody>\n",
       "</table>\n",
       "</div>"
      ],
      "text/plain": [
       "Empty DataFrame\n",
       "Columns: [STT, comment, rating, comment_clear, total_comment, total_rating, average_rating]\n",
       "Index: []"
      ]
     },
     "execution_count": 7,
     "metadata": {},
     "output_type": "execute_result"
    }
   ],
   "source": [
    "df1[df1.comment_clear.isna()==True]"
   ]
  },
  {
   "cell_type": "code",
   "execution_count": 8,
   "metadata": {},
   "outputs": [
    {
     "data": {
      "text/html": [
       "<div>\n",
       "<style scoped>\n",
       "    .dataframe tbody tr th:only-of-type {\n",
       "        vertical-align: middle;\n",
       "    }\n",
       "\n",
       "    .dataframe tbody tr th {\n",
       "        vertical-align: top;\n",
       "    }\n",
       "\n",
       "    .dataframe thead th {\n",
       "        text-align: right;\n",
       "    }\n",
       "</style>\n",
       "<table border=\"1\" class=\"dataframe\">\n",
       "  <thead>\n",
       "    <tr style=\"text-align: right;\">\n",
       "      <th></th>\n",
       "      <th>STT</th>\n",
       "      <th>comment</th>\n",
       "      <th>rating</th>\n",
       "      <th>comment_clear</th>\n",
       "      <th>total_comment</th>\n",
       "      <th>total_rating</th>\n",
       "      <th>average_rating</th>\n",
       "    </tr>\n",
       "  </thead>\n",
       "  <tbody>\n",
       "    <tr>\n",
       "      <td>15</td>\n",
       "      <td>16</td>\n",
       "      <td>Tốt</td>\n",
       "      <td>5</td>\n",
       "      <td>tốt</td>\n",
       "      <td>14106</td>\n",
       "      <td>66909</td>\n",
       "      <td>4.743301</td>\n",
       "    </tr>\n",
       "    <tr>\n",
       "      <td>25</td>\n",
       "      <td>26</td>\n",
       "      <td>Tốt</td>\n",
       "      <td>5</td>\n",
       "      <td>tốt</td>\n",
       "      <td>14106</td>\n",
       "      <td>66909</td>\n",
       "      <td>4.743301</td>\n",
       "    </tr>\n",
       "    <tr>\n",
       "      <td>38</td>\n",
       "      <td>39</td>\n",
       "      <td>Tốt</td>\n",
       "      <td>5</td>\n",
       "      <td>tốt</td>\n",
       "      <td>14106</td>\n",
       "      <td>66909</td>\n",
       "      <td>4.743301</td>\n",
       "    </tr>\n",
       "    <tr>\n",
       "      <td>79</td>\n",
       "      <td>80</td>\n",
       "      <td>Tốt</td>\n",
       "      <td>5</td>\n",
       "      <td>tốt</td>\n",
       "      <td>14106</td>\n",
       "      <td>66909</td>\n",
       "      <td>4.743301</td>\n",
       "    </tr>\n",
       "    <tr>\n",
       "      <td>107</td>\n",
       "      <td>108</td>\n",
       "      <td>ok</td>\n",
       "      <td>4</td>\n",
       "      <td>tốt</td>\n",
       "      <td>1427</td>\n",
       "      <td>6602</td>\n",
       "      <td>4.626489</td>\n",
       "    </tr>\n",
       "    <tr>\n",
       "      <td>...</td>\n",
       "      <td>...</td>\n",
       "      <td>...</td>\n",
       "      <td>...</td>\n",
       "      <td>...</td>\n",
       "      <td>...</td>\n",
       "      <td>...</td>\n",
       "      <td>...</td>\n",
       "    </tr>\n",
       "    <tr>\n",
       "      <td>544773</td>\n",
       "      <td>544774</td>\n",
       "      <td>Tốt</td>\n",
       "      <td>5</td>\n",
       "      <td>tốt</td>\n",
       "      <td>14106</td>\n",
       "      <td>66909</td>\n",
       "      <td>4.743301</td>\n",
       "    </tr>\n",
       "    <tr>\n",
       "      <td>544783</td>\n",
       "      <td>544784</td>\n",
       "      <td>Tốt</td>\n",
       "      <td>5</td>\n",
       "      <td>tốt</td>\n",
       "      <td>14106</td>\n",
       "      <td>66909</td>\n",
       "      <td>4.743301</td>\n",
       "    </tr>\n",
       "    <tr>\n",
       "      <td>544806</td>\n",
       "      <td>544807</td>\n",
       "      <td>tốt</td>\n",
       "      <td>5</td>\n",
       "      <td>tốt</td>\n",
       "      <td>3334</td>\n",
       "      <td>15920</td>\n",
       "      <td>4.775045</td>\n",
       "    </tr>\n",
       "    <tr>\n",
       "      <td>544807</td>\n",
       "      <td>544808</td>\n",
       "      <td>Tốt</td>\n",
       "      <td>5</td>\n",
       "      <td>tốt</td>\n",
       "      <td>14106</td>\n",
       "      <td>66909</td>\n",
       "      <td>4.743301</td>\n",
       "    </tr>\n",
       "    <tr>\n",
       "      <td>544879</td>\n",
       "      <td>544880</td>\n",
       "      <td>Ok</td>\n",
       "      <td>4</td>\n",
       "      <td>tốt</td>\n",
       "      <td>1839</td>\n",
       "      <td>8447</td>\n",
       "      <td>4.593257</td>\n",
       "    </tr>\n",
       "  </tbody>\n",
       "</table>\n",
       "<p>22593 rows × 7 columns</p>\n",
       "</div>"
      ],
      "text/plain": [
       "           STT comment  rating comment_clear  total_comment  total_rating  \\\n",
       "15          16     Tốt       5           tốt          14106         66909   \n",
       "25          26     Tốt       5           tốt          14106         66909   \n",
       "38          39     Tốt       5           tốt          14106         66909   \n",
       "79          80     Tốt       5           tốt          14106         66909   \n",
       "107        108      ok       4           tốt           1427          6602   \n",
       "...        ...     ...     ...           ...            ...           ...   \n",
       "544773  544774     Tốt       5           tốt          14106         66909   \n",
       "544783  544784     Tốt       5           tốt          14106         66909   \n",
       "544806  544807     tốt       5           tốt           3334         15920   \n",
       "544807  544808     Tốt       5           tốt          14106         66909   \n",
       "544879  544880      Ok       4           tốt           1839          8447   \n",
       "\n",
       "        average_rating  \n",
       "15            4.743301  \n",
       "25            4.743301  \n",
       "38            4.743301  \n",
       "79            4.743301  \n",
       "107           4.626489  \n",
       "...                ...  \n",
       "544773        4.743301  \n",
       "544783        4.743301  \n",
       "544806        4.775045  \n",
       "544807        4.743301  \n",
       "544879        4.593257  \n",
       "\n",
       "[22593 rows x 7 columns]"
      ]
     },
     "execution_count": 8,
     "metadata": {},
     "output_type": "execute_result"
    }
   ],
   "source": [
    "df1[df1.comment_clear =='tốt']"
   ]
  },
  {
   "cell_type": "code",
   "execution_count": 9,
   "metadata": {},
   "outputs": [
    {
     "data": {
      "text/html": [
       "<div>\n",
       "<style scoped>\n",
       "    .dataframe tbody tr th:only-of-type {\n",
       "        vertical-align: middle;\n",
       "    }\n",
       "\n",
       "    .dataframe tbody tr th {\n",
       "        vertical-align: top;\n",
       "    }\n",
       "\n",
       "    .dataframe thead th {\n",
       "        text-align: right;\n",
       "    }\n",
       "</style>\n",
       "<table border=\"1\" class=\"dataframe\">\n",
       "  <thead>\n",
       "    <tr style=\"text-align: right;\">\n",
       "      <th></th>\n",
       "      <th>0</th>\n",
       "      <th>total</th>\n",
       "    </tr>\n",
       "  </thead>\n",
       "  <tbody>\n",
       "    <tr>\n",
       "      <td>0</td>\n",
       "      <td>Postitive</td>\n",
       "      <td>417598</td>\n",
       "    </tr>\n",
       "    <tr>\n",
       "      <td>1</td>\n",
       "      <td>Negative</td>\n",
       "      <td>121997</td>\n",
       "    </tr>\n",
       "  </tbody>\n",
       "</table>\n",
       "</div>"
      ],
      "text/plain": [
       "           0   total\n",
       "0  Postitive  417598\n",
       "1   Negative  121997"
      ]
     },
     "execution_count": 9,
     "metadata": {},
     "output_type": "execute_result"
    }
   ],
   "source": [
    "pos = df[df['label'] == 1].count().values[0]\n",
    "neg = df[df['label'] == 0].count().values[0]\n",
    "\n",
    "df2 = pd.DataFrame(['Postitive', 'Negative'])\n",
    "df2['total'] = [pos, neg]\n",
    "\n",
    "df2"
   ]
  },
  {
   "cell_type": "code",
   "execution_count": 10,
   "metadata": {},
   "outputs": [
    {
     "data": {
      "text/plain": [
       "<matplotlib.axes._subplots.AxesSubplot at 0x21822b21548>"
      ]
     },
     "execution_count": 10,
     "metadata": {},
     "output_type": "execute_result"
    },
    {
     "data": {
      "image/png": "[encoded data removed]",
      "text/plain": [
       "<Figure size 432x288 with 1 Axes>"
      ]
     },
     "metadata": {
      "needs_background": "light"
     },
     "output_type": "display_data"
    }
   ],
   "source": [
    "# Vẽ đồ thị của data, trục x là các loại ý kiến, trục y là số lượng của từng loại ý kiến\n",
    "df['label'].value_counts().plot(kind='bar')"
   ]
  },
  {
   "cell_type": "code",
   "execution_count": 11,
   "metadata": {},
   "outputs": [
    {
     "data": {
      "text/plain": [
       "503318            hài lòng ủng hộ cửa hàng\n",
       "9607                              hài lòng\n",
       "263663    hài lòng với sản phẩm và dịch vụ\n",
       "314361                         bình thường\n",
       "289688               cửa hàng giao sai mầu\n",
       "Name: comment_clear, dtype: object"
      ]
     },
     "execution_count": 11,
     "metadata": {},
     "output_type": "execute_result"
    }
   ],
   "source": [
    "# Chia dữ liệu ra làm 2 tập là tập huấn luyện và tập kiểm tra theo tỉ lệ 80%:20%\n",
    "train_X, test_X, train_y, test_y = train_test_split(df['comment_clear'], df['label'], \n",
    "                                                    test_size=0.2, random_state=0, stratify=df['label'])\n",
    "\n",
    "train_X.head()"
   ]
  },
  {
   "cell_type": "code",
   "execution_count": 12,
   "metadata": {},
   "outputs": [
    {
     "data": {
      "text/plain": [
       "503318    1\n",
       "9607      1\n",
       "263663    1\n",
       "314361    0\n",
       "289688    0\n",
       "Name: label, dtype: int32"
      ]
     },
     "execution_count": 12,
     "metadata": {},
     "output_type": "execute_result"
    }
   ],
   "source": [
    "train_y.head()"
   ]
  },
  {
   "cell_type": "code",
   "execution_count": 13,
   "metadata": {},
   "outputs": [
    {
     "data": {
      "text/html": [
       "<div>\n",
       "<style scoped>\n",
       "    .dataframe tbody tr th:only-of-type {\n",
       "        vertical-align: middle;\n",
       "    }\n",
       "\n",
       "    .dataframe tbody tr th {\n",
       "        vertical-align: top;\n",
       "    }\n",
       "\n",
       "    .dataframe thead th {\n",
       "        text-align: right;\n",
       "    }\n",
       "</style>\n",
       "<table border=\"1\" class=\"dataframe\">\n",
       "  <thead>\n",
       "    <tr style=\"text-align: right;\">\n",
       "      <th></th>\n",
       "      <th>comment_clear</th>\n",
       "      <th>average_rating</th>\n",
       "      <th>label</th>\n",
       "    </tr>\n",
       "  </thead>\n",
       "  <tbody>\n",
       "    <tr>\n",
       "      <td>0</td>\n",
       "      <td>bóc niêm phong hộ à</td>\n",
       "      <td>1.000000</td>\n",
       "      <td>0</td>\n",
       "    </tr>\n",
       "    <tr>\n",
       "      <td>1</td>\n",
       "      <td>hài lòng</td>\n",
       "      <td>4.202278</td>\n",
       "      <td>1</td>\n",
       "    </tr>\n",
       "    <tr>\n",
       "      <td>2</td>\n",
       "      <td>máy ổn trong tầm giá</td>\n",
       "      <td>4.764706</td>\n",
       "      <td>1</td>\n",
       "    </tr>\n",
       "    <tr>\n",
       "      <td>3</td>\n",
       "      <td>sản phẩm đúng theo mô tả giao hàng nhanh</td>\n",
       "      <td>5.000000</td>\n",
       "      <td>1</td>\n",
       "    </tr>\n",
       "    <tr>\n",
       "      <td>4</td>\n",
       "      <td>hẩu hết đúng mô tả tuy nhiên có chi tiết nhỏ c...</td>\n",
       "      <td>5.000000</td>\n",
       "      <td>1</td>\n",
       "    </tr>\n",
       "    <tr>\n",
       "      <td>...</td>\n",
       "      <td>...</td>\n",
       "      <td>...</td>\n",
       "      <td>...</td>\n",
       "    </tr>\n",
       "    <tr>\n",
       "      <td>544985</td>\n",
       "      <td>hàng tốt</td>\n",
       "      <td>4.880026</td>\n",
       "      <td>1</td>\n",
       "    </tr>\n",
       "    <tr>\n",
       "      <td>544986</td>\n",
       "      <td>hài lòng</td>\n",
       "      <td>4.202278</td>\n",
       "      <td>1</td>\n",
       "    </tr>\n",
       "    <tr>\n",
       "      <td>544987</td>\n",
       "      <td>cực kì hài lòng</td>\n",
       "      <td>4.999647</td>\n",
       "      <td>1</td>\n",
       "    </tr>\n",
       "    <tr>\n",
       "      <td>544988</td>\n",
       "      <td>cực kì hài lòng</td>\n",
       "      <td>4.999647</td>\n",
       "      <td>1</td>\n",
       "    </tr>\n",
       "    <tr>\n",
       "      <td>544989</td>\n",
       "      <td>cực kì hài lòng</td>\n",
       "      <td>4.999647</td>\n",
       "      <td>1</td>\n",
       "    </tr>\n",
       "  </tbody>\n",
       "</table>\n",
       "<p>539595 rows × 3 columns</p>\n",
       "</div>"
      ],
      "text/plain": [
       "                                            comment_clear  average_rating  \\\n",
       "0                                     bóc niêm phong hộ à        1.000000   \n",
       "1                                                hài lòng        4.202278   \n",
       "2                                    máy ổn trong tầm giá        4.764706   \n",
       "3                sản phẩm đúng theo mô tả giao hàng nhanh        5.000000   \n",
       "4       hẩu hết đúng mô tả tuy nhiên có chi tiết nhỏ c...        5.000000   \n",
       "...                                                   ...             ...   \n",
       "544985                                           hàng tốt        4.880026   \n",
       "544986                                           hài lòng        4.202278   \n",
       "544987                                    cực kì hài lòng        4.999647   \n",
       "544988                                    cực kì hài lòng        4.999647   \n",
       "544989                                    cực kì hài lòng        4.999647   \n",
       "\n",
       "        label  \n",
       "0           0  \n",
       "1           1  \n",
       "2           1  \n",
       "3           1  \n",
       "4           1  \n",
       "...       ...  \n",
       "544985      1  \n",
       "544986      1  \n",
       "544987      1  \n",
       "544988      1  \n",
       "544989      1  \n",
       "\n",
       "[539595 rows x 3 columns]"
      ]
     },
     "execution_count": 13,
     "metadata": {},
     "output_type": "execute_result"
    }
   ],
   "source": [
    "df"
   ]
  },
  {
   "cell_type": "code",
   "execution_count": 14,
   "metadata": {},
   "outputs": [],
   "source": [
    "df.to_csv(\"data_clean.csv\", sep = ',')"
   ]
  }
 ],
 "metadata": {
  "kernelspec": {
   "display_name": "Python 3",
   "language": "python",
   "name": "python3"
  },
  "language_info": {
   "codemirror_mode": {
    "name": "ipython",
    "version": 3
   },
   "file_extension": ".py",
   "mimetype": "text/x-python",
   "name": "python",
   "nbconvert_exporter": "python",
   "pygments_lexer": "ipython3",
   "version": "3.7.4"
  }
 },
 "nbformat": 4,
 "nbformat_minor": 2
}
